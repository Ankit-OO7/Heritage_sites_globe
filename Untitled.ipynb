{
 "cells": [
  {
   "cell_type": "code",
   "execution_count": 1,
   "id": "9bb83581",
   "metadata": {},
   "outputs": [
    {
     "name": "stdout",
     "output_type": "stream",
     "text": [
      "Requirement already satisfied: pandas in c:\\users\\ankit kumar singh\\anaconda3\\lib\\site-packages (1.5.3)\n",
      "Requirement already satisfied: openpyxl in c:\\users\\ankit kumar singh\\anaconda3\\lib\\site-packages (3.0.10)\n",
      "Requirement already satisfied: python-dateutil>=2.8.1 in c:\\users\\ankit kumar singh\\anaconda3\\lib\\site-packages (from pandas) (2.8.2)\n",
      "Requirement already satisfied: pytz>=2020.1 in c:\\users\\ankit kumar singh\\anaconda3\\lib\\site-packages (from pandas) (2022.7)\n",
      "Requirement already satisfied: numpy>=1.21.0 in c:\\users\\ankit kumar singh\\anaconda3\\lib\\site-packages (from pandas) (1.24.3)\n",
      "Requirement already satisfied: et_xmlfile in c:\\users\\ankit kumar singh\\anaconda3\\lib\\site-packages (from openpyxl) (1.1.0)\n",
      "Requirement already satisfied: six>=1.5 in c:\\users\\ankit kumar singh\\anaconda3\\lib\\site-packages (from python-dateutil>=2.8.1->pandas) (1.16.0)\n",
      "Note: you may need to restart the kernel to use updated packages.\n"
     ]
    }
   ],
   "source": [
    "pip install pandas openpyxl"
   ]
  },
  {
   "cell_type": "code",
   "execution_count": 5,
   "id": "dc348e4e",
   "metadata": {},
   "outputs": [
    {
     "name": "stdout",
     "output_type": "stream",
     "text": [
      "   id_no                                          site_name  \\\n",
      "0    208  Cultural Landscape and Archaeological Remains ...   \n",
      "1    211          Minaret and Archaeological Remains of Jam   \n",
      "2    569          Historic Centres of Berat and Gjirokastra   \n",
      "3    570                                            Butrint   \n",
      "4    102                            Al Qal'a of Beni Hammad   \n",
      "\n",
      "                                      description_en  date_inscribed  \\\n",
      "0  <p>The cultural landscape and archaeological r...            2003   \n",
      "1  <p>The 65m-tall Minaret of Jam is a graceful, ...            2002   \n",
      "2  <p>Berat and Gjirokastra are inscribed as rare...            2005   \n",
      "3  <p>Inhabited since prehistoric times, Butrint ...            1992   \n",
      "4  <p>In a mountainous site of extraordinary beau...            1980   \n",
      "\n",
      "   longitude   latitude  area_hectares states_name_en  \\\n",
      "0  67.825250  34.846940       158.9265    Afghanistan   \n",
      "1  64.515889  34.396417        70.0000    Afghanistan   \n",
      "2  20.140833  40.074167        58.9000        Albania   \n",
      "3  20.020950  39.745732            NaN        Albania   \n",
      "4   4.786840  35.818440       150.0000        Algeria   \n",
      "\n",
      "                  region_en  \n",
      "0      Asia and the Pacific  \n",
      "1      Asia and the Pacific  \n",
      "2  Europe and North America  \n",
      "3  Europe and North America  \n",
      "4               Arab States  \n"
     ]
    }
   ],
   "source": [
    "import pandas as pd\n",
    "\n",
    "# Load the Excel file\n",
    "data = pd.read_excel(\"whc-sites-2024.xlsx\")\n",
    "\n",
    "# Preview the first few rows\n",
    "print(data.head())\n"
   ]
  },
  {
   "cell_type": "code",
   "execution_count": 7,
   "id": "d4416e29",
   "metadata": {},
   "outputs": [],
   "source": [
    "# Drop columns that are not needed\n",
    "columns_to_keep = [\"site_name\", \"latitude\", \"longitude\", \"states_name_en\", \"description_en\", \"date_inscribed\"]\n",
    "data = data[columns_to_keep]\n",
    "\n",
    "# Drop rows with missing coordinates\n",
    "data = data.dropna(subset=[\"latitude\", \"longitude\"])\n",
    "\n",
    "# Reset index\n",
    "data.reset_index(drop=True, inplace=True)"
   ]
  },
  {
   "cell_type": "code",
   "execution_count": 8,
   "id": "02890d22",
   "metadata": {},
   "outputs": [
    {
     "name": "stdout",
     "output_type": "stream",
     "text": [
      "Collecting geojson\n",
      "  Downloading geojson-3.1.0-py3-none-any.whl (15 kB)\n",
      "Installing collected packages: geojson\n",
      "Successfully installed geojson-3.1.0\n",
      "Note: you may need to restart the kernel to use updated packages.\n"
     ]
    }
   ],
   "source": [
    "pip install geojson"
   ]
  },
  {
   "cell_type": "code",
   "execution_count": 9,
   "id": "84bf5c68",
   "metadata": {},
   "outputs": [],
   "source": [
    "import geojson\n",
    "\n",
    "# Create GeoJSON structure\n",
    "features = []\n",
    "for _, row in data.iterrows():\n",
    "    feature = geojson.Feature(\n",
    "        geometry=geojson.Point((row[\"longitude\"], row[\"latitude\"])),\n",
    "        properties={\n",
    "            \"name\": row[\"site_name\"],\n",
    "            \"country\": row[\"states_name_en\"],\n",
    "            \"description\": row[\"description_en\"],\n",
    "            \"year\": row[\"date_inscribed\"]\n",
    "        }\n",
    "    )\n",
    "    features.append(feature)\n",
    "\n",
    "# Save as GeoJSON file\n",
    "with open(\"heritage_sites.geojson\", \"w\") as f:\n",
    "    geojson.dump(geojson.FeatureCollection(features), f)\n"
   ]
  },
  {
   "cell_type": "code",
   "execution_count": 2,
   "id": "df13265e",
   "metadata": {},
   "outputs": [
    {
     "name": "stdout",
     "output_type": "stream",
     "text": [
      "   id_no                                          site_name  \\\n",
      "0    208  Cultural Landscape and Archaeological Remains ...   \n",
      "1    211          Minaret and Archaeological Remains of Jam   \n",
      "2    569          Historic Centres of Berat and Gjirokastra   \n",
      "3    570                                            Butrint   \n",
      "4    102                            Al Qal'a of Beni Hammad   \n",
      "\n",
      "                                      description_en  date_inscribed  \\\n",
      "0  <p>The cultural landscape and archaeological r...            2003   \n",
      "1  <p>The 65m-tall Minaret of Jam is a graceful, ...            2002   \n",
      "2  <p>Berat and Gjirokastra are inscribed as rare...            2005   \n",
      "3  <p>Inhabited since prehistoric times, Butrint ...            1992   \n",
      "4  <p>In a mountainous site of extraordinary beau...            1980   \n",
      "\n",
      "   longitude   latitude  area_hectares states_name_en  \\\n",
      "0  67.825250  34.846940       158.9265    Afghanistan   \n",
      "1  64.515889  34.396417        70.0000    Afghanistan   \n",
      "2  20.140833  40.074167        58.9000        Albania   \n",
      "3  20.020950  39.745732            NaN        Albania   \n",
      "4   4.786840  35.818440       150.0000        Algeria   \n",
      "\n",
      "                  region_en                                        unesco_link  \n",
      "0      Asia and the Pacific  Link to Cultural Landscape and Archaeological ...  \n",
      "1      Asia and the Pacific  Link to Minaret and Archaeological Remains of Jam  \n",
      "2  Europe and North America  Link to Historic Centres of Berat and Gjirokastra  \n",
      "3  Europe and North America                                    Link to Butrint  \n",
      "4               Arab States                    Link to Al Qal'a of Beni Hammad  \n"
     ]
    }
   ],
   "source": [
    "import pandas as pd\n",
    "\n",
    "# Load the Excel file\n",
    "data = pd.read_excel(\"whc-sites-2024.xlsx\")\n",
    "\n",
    "# Preview the first few rows\n",
    "print(data.head())"
   ]
  },
  {
   "cell_type": "code",
   "execution_count": 3,
   "id": "4dfe552b",
   "metadata": {},
   "outputs": [],
   "source": [
    "# Drop columns that are not needed\n",
    "columns_to_keep = [\"site_name\", \"latitude\", \"longitude\", \"states_name_en\", \"description_en\", \"date_inscribed\", \"unesco_link\"]\n",
    "data = data[columns_to_keep]\n",
    "\n",
    "# Drop rows with missing coordinates\n",
    "data = data.dropna(subset=[\"latitude\", \"longitude\"])\n",
    "\n",
    "# Reset index\n",
    "data.reset_index(drop=True, inplace=True)"
   ]
  },
  {
   "cell_type": "code",
   "execution_count": 6,
   "id": "b1842301",
   "metadata": {},
   "outputs": [],
   "source": [
    "import geojson\n",
    "\n",
    "# Create GeoJSON structure\n",
    "features = []\n",
    "for _, row in data.iterrows():\n",
    "    feature = geojson.Feature(\n",
    "        geometry=geojson.Point((row[\"longitude\"], row[\"latitude\"])),\n",
    "        properties={\n",
    "            \"name\": row[\"site_name\"],\n",
    "            \"country\": row[\"states_name_en\"],\n",
    "            \"description\": row[\"description_en\"],\n",
    "            \"year\": row[\"date_inscribed\"],\n",
    "            \"UNESCO link\": row[\"unesco_link\"]\n",
    "        }\n",
    "    )\n",
    "    features.append(feature)\n",
    "\n",
    "# Save as GeoJSON file\n",
    "with open(\"heritage_sites.geojson\", \"w\") as f:\n",
    "    geojson.dump(geojson.FeatureCollection(features), f)"
   ]
  },
  {
   "cell_type": "code",
   "execution_count": null,
   "id": "e14f985e",
   "metadata": {},
   "outputs": [],
   "source": []
  }
 ],
 "metadata": {
  "kernelspec": {
   "display_name": "Python 3 (ipykernel)",
   "language": "python",
   "name": "python3"
  },
  "language_info": {
   "codemirror_mode": {
    "name": "ipython",
    "version": 3
   },
   "file_extension": ".py",
   "mimetype": "text/x-python",
   "name": "python",
   "nbconvert_exporter": "python",
   "pygments_lexer": "ipython3",
   "version": "3.11.3"
  }
 },
 "nbformat": 4,
 "nbformat_minor": 5
}
